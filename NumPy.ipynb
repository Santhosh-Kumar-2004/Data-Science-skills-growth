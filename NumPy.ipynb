{
 "cells": [
  {
   "cell_type": "code",
   "execution_count": 3,
   "id": "aee7107d-f1b9-46da-8a68-86808aac1063",
   "metadata": {},
   "outputs": [],
   "source": [
    "import numpy as np"
   ]
  },
  {
   "cell_type": "code",
   "execution_count": 3,
   "id": "7b42fdfa-3a1a-45ff-b7a9-62b4ae241077",
   "metadata": {},
   "outputs": [],
   "source": [
    "# 1D Array\n",
    "arr1d = np.array([1, 2, 3, 4, 5])\n",
    "# 2D Array\n",
    "arr2d = np.array([[1, 2, 3], [4, 5, 6]])"
   ]
  },
  {
   "cell_type": "code",
   "execution_count": 7,
   "id": "90d0c1d4-7f2e-445b-9625-5889bd4cde9e",
   "metadata": {},
   "outputs": [
    {
     "name": "stdout",
     "output_type": "stream",
     "text": [
      "[5 7 9]\n",
      "[-3 -3 -3]\n",
      "[ 4 10 18]\n",
      "[0.25 0.4  0.5 ]\n"
     ]
    }
   ],
   "source": [
    "# Addition, subtraction, multiplication, division\n",
    "a = np.array([1, 2, 3])\n",
    "b = np.array([4, 5, 6])\n",
    "\n",
    "print(a + b)      # Element-wise addition\n",
    "print(a - b)      # Element-wise subtraction\n",
    "print(a * b)      # Element-wise multiplication\n",
    "print(a / b)      # Element-wise division"
   ]
  },
  {
   "cell_type": "code",
   "execution_count": 17,
   "id": "ca41dcb5-2866-4f2f-83df-0e13935460e1",
   "metadata": {},
   "outputs": [
    {
     "name": "stdout",
     "output_type": "stream",
     "text": [
      "(3, 3)\n",
      "2\n",
      "9\n",
      "int32\n"
     ]
    }
   ],
   "source": [
    "arr = np.array([[1, 2, 3], [4, 5, 6], [7, 8, 9]])\n",
    "print(arr.shape)         # Shape of array (rows, columns)\n",
    "print(arr.ndim)          # Number of dimensions\n",
    "print(arr.size)          # Total number of elements\n",
    "print(arr.dtype)         # Data type of elements\n"
   ]
  },
  {
   "cell_type": "code",
   "execution_count": 35,
   "id": "b2d78ea4-6038-4d29-8fdb-2abfb8a988d1",
   "metadata": {},
   "outputs": [
    {
     "name": "stdout",
     "output_type": "stream",
     "text": [
      "[[ 1  2  3  4  5  6]\n",
      " [ 7  8  9 10 11 12]]\n"
     ]
    }
   ],
   "source": [
    "arr1 = np.array([[1, 2, 3, 4, 5, 6], [7, 8, 9, 10, 11, 12]])\n",
    "arr_reshaped = arr1.reshape(2, 6)  # Reshape to 2 rows and 3 columns\n",
    "print(arr_reshaped)"
   ]
  },
  {
   "cell_type": "code",
   "execution_count": 37,
   "id": "1c2d2bce-ac95-4819-a654-16a7c5e051c5",
   "metadata": {},
   "outputs": [
    {
     "name": "stdout",
     "output_type": "stream",
     "text": [
      "1\n",
      "[2 3 4]\n"
     ]
    }
   ],
   "source": [
    "arr2 = np.array([1, 2, 3, 4, 5])\n",
    "print(arr2[0])             # First element\n",
    "print(arr2[1:4])           # Elements from index 1 to 3"
   ]
  },
  {
   "cell_type": "code",
   "execution_count": 39,
   "id": "6fa79179-7a28-4872-ae8c-ec47314c3bc3",
   "metadata": {},
   "outputs": [
    {
     "name": "stdout",
     "output_type": "stream",
     "text": [
      "3\n"
     ]
    }
   ],
   "source": [
    "print(arr2[-3])"
   ]
  },
  {
   "cell_type": "code",
   "execution_count": 41,
   "id": "04cf2290-3a7a-41ed-8edd-cf8fda89dcf6",
   "metadata": {},
   "outputs": [
    {
     "name": "stdout",
     "output_type": "stream",
     "text": [
      "5.5\n",
      "5.5\n",
      "2.8722813232690143\n",
      "8.25\n",
      "10\n",
      "1\n"
     ]
    }
   ],
   "source": [
    "data = np.array([1, 2, 3, 4, 5, 6, 7, 8, 9, 10])\n",
    "\n",
    "print(np.mean(data))      # Mean\n",
    "print(np.median(data))    # Median\n",
    "print(np.std(data))       # Standard deviation\n",
    "print(np.var(data))       # Variance\n",
    "print(np.max(data))       # Maximum value\n",
    "print(np.min(data))       # Minimum value"
   ]
  },
  {
   "cell_type": "code",
   "execution_count": 55,
   "id": "b79568f8-616f-4ff6-89fd-ed42901bedb7",
   "metadata": {},
   "outputs": [
    {
     "name": "stdout",
     "output_type": "stream",
     "text": [
      "[[0.45522109 0.70432151 0.93972231]\n",
      " [0.92237919 0.39743709 0.71843598]\n",
      " [0.07031531 0.61322473 0.30941552]]\n",
      "[1 2 6 1 3]\n"
     ]
    }
   ],
   "source": [
    "# Random array of shape (3, 3) with values between 0 and 1\n",
    "random_array = np.random.rand(3, 3)\n",
    "\n",
    "# Random integers between 1 and 10 in a 1D array of size 5\n",
    "random_integers = np.random.randint(1, 10, 5)\n",
    "\n",
    "print(random_array)\n",
    "print(random_integers)"
   ]
  },
  {
   "cell_type": "code",
   "execution_count": 11,
   "id": "7f2e25ef-069b-447e-ac07-6b7ebbe51853",
   "metadata": {},
   "outputs": [
    {
     "name": "stdout",
     "output_type": "stream",
     "text": [
      "[1 2 3 4 5 6]\n",
      "[[1 2 3]\n",
      " [4 5 6]]\n",
      "[[1 2 3 4 5 6]]\n"
     ]
    }
   ],
   "source": [
    "a = np.array([1, 2, 3])\n",
    "b = np.array([4, 5, 6])\n",
    "\n",
    "# Concatenation along a single axis\n",
    "concat_arr = np.concatenate((a, b))\n",
    "\n",
    "# Stacking vertically and horizontally\n",
    "a2d = np.array([[1, 2, 3]])\n",
    "b2d = np.array([[4, 5, 6]])\n",
    "\n",
    "v_stack = np.vstack((a2d, b2d))    # Vertical stacking\n",
    "h_stack = np.hstack((a2d, b2d))    # Horizontal stacking\n",
    "\n",
    "print(concat_arr)\n",
    "print(v_stack)\n",
    "print(h_stack)"
   ]
  },
  {
   "cell_type": "code",
   "execution_count": 13,
   "id": "1a18c7b8-977a-496d-8c56-ce55c42e220d",
   "metadata": {},
   "outputs": [
    {
     "name": "stdout",
     "output_type": "stream",
     "text": [
      "15\n",
      "120\n",
      "[ 1  3  6 10 15]\n",
      "[  1   2   6  24 120]\n"
     ]
    }
   ],
   "source": [
    "arr = np.array([1, 2, 3, 4, 5])\n",
    "\n",
    "print(np.sum(arr))           # Sum of all elements\n",
    "print(np.prod(arr))          # Product of all elements\n",
    "print(np.cumsum(arr))        # Cumulative sum\n",
    "print(np.cumprod(arr))       # Cumulative product"
   ]
  },
  {
   "cell_type": "code",
   "execution_count": 19,
   "id": "2b48e136-3409-47be-b14b-e0b29462326e",
   "metadata": {},
   "outputs": [
    {
     "name": "stdout",
     "output_type": "stream",
     "text": [
      "32\n",
      "[[19 22]\n",
      " [43 50]]\n",
      "[[-2.   1. ]\n",
      " [ 1.5 -0.5]]\n"
     ]
    }
   ],
   "source": [
    "# Dot product\n",
    "a = np.array([1, 2, 3])\n",
    "b = np.array([4, 5, 6])\n",
    "print(np.dot(a, b))\n",
    "\n",
    "# Matrix multiplication\n",
    "mat1 = np.array([[1, 2], [3, 4]])\n",
    "mat2 = np.array([[5, 6], [7, 8]])\n",
    "print(np.matmul(mat1, mat2))\n",
    "\n",
    "# Inverse of a matrix\n",
    "print(np.linalg.inv(mat1))\n",
    "\n",
    "# Eigenvalues and eigenvectors\n",
    "eigenvalues, eigenvectors = np.linalg.eig(mat1)"
   ]
  },
  {
   "cell_type": "code",
   "execution_count": 21,
   "id": "f153403c-7b2f-4e9e-b470-dc2220c26e45",
   "metadata": {},
   "outputs": [
    {
     "name": "stdout",
     "output_type": "stream",
     "text": [
      "[6 7 8 9]\n",
      "[2 4 6 8]\n"
     ]
    }
   ],
   "source": [
    "arr = np.array([1, 2, 3, 4, 5, 6, 7, 8, 9])\n",
    "print(arr[arr > 5])           # Elements greater than 5\n",
    "print(arr[(arr % 2) == 0])    # Even elements"
   ]
  },
  {
   "cell_type": "code",
   "execution_count": 33,
   "id": "7ca33c3b-c9ec-4925-9614-3b9f5e428170",
   "metadata": {},
   "outputs": [
    {
     "name": "stdout",
     "output_type": "stream",
     "text": [
      "[14 15 16 17 18 19 20]\n",
      "[10 12 14 16 18 20]\n"
     ]
    }
   ],
   "source": [
    "arr5 = np.array([10, 11, 12, 13, 14, 15, 16, 17, 18, 19, 20])\n",
    "print(arr5[arr5 >= 14])\n",
    "print(arr5[(arr5 % 2) == 0])"
   ]
  },
  {
   "cell_type": "code",
   "execution_count": 35,
   "id": "1adae31f-c8cf-4766-a243-b62255b99398",
   "metadata": {},
   "outputs": [],
   "source": [
    "# Save array to a .npy file\n",
    "np.save(\"my_array.npy\", arr)\n",
    "\n",
    "# Load array from a .npy file\n",
    "loaded_arr = np.load(\"my_array.npy\")"
   ]
  },
  {
   "cell_type": "code",
   "execution_count": 37,
   "id": "8175c491-64af-4af9-9247-98ad4459441b",
   "metadata": {},
   "outputs": [
    {
     "name": "stdout",
     "output_type": "stream",
     "text": [
      "[1 2 3 4 5 6 7 8 9]\n"
     ]
    }
   ],
   "source": [
    "print(loaded_arr)"
   ]
  },
  {
   "cell_type": "code",
   "execution_count": null,
   "id": "71bf131f-3c6e-4385-a944-5e50e5a6e50c",
   "metadata": {},
   "outputs": [],
   "source": []
  }
 ],
 "metadata": {
  "kernelspec": {
   "display_name": "Python 3 (ipykernel)",
   "language": "python",
   "name": "python3"
  },
  "language_info": {
   "codemirror_mode": {
    "name": "ipython",
    "version": 3
   },
   "file_extension": ".py",
   "mimetype": "text/x-python",
   "name": "python",
   "nbconvert_exporter": "python",
   "pygments_lexer": "ipython3",
   "version": "3.12.4"
  }
 },
 "nbformat": 4,
 "nbformat_minor": 5
}
