{
 "cells": [
  {
   "cell_type": "markdown",
   "id": "d7634674-7e6d-4571-b902-252d772c7b0a",
   "metadata": {},
   "source": [
    "#NumPy Important Methods"
   ]
  },
  {
   "cell_type": "code",
   "execution_count": 3,
   "id": "a0be266d-adfb-4eec-a0a1-be4b87492f4d",
   "metadata": {},
   "outputs": [],
   "source": [
    "import numpy as np"
   ]
  },
  {
   "cell_type": "code",
   "execution_count": 7,
   "id": "5520d11d-3b91-4cb4-be4c-05cf75ba5678",
   "metadata": {},
   "outputs": [
    {
     "name": "stdout",
     "output_type": "stream",
     "text": [
      "(2, 3)\n"
     ]
    }
   ],
   "source": [
    "# shape - Returns the dimensions of the array (rows, columns).\n",
    "arr = np.array([[1, 2, 3], [4, 5, 6]])\n",
    "print(arr.shape)   # Output: (2, 3)"
   ]
  },
  {
   "cell_type": "code",
   "execution_count": 9,
   "id": "c201da12-22aa-4615-b2a2-5203141ecf19",
   "metadata": {},
   "outputs": [
    {
     "name": "stdout",
     "output_type": "stream",
     "text": [
      "int32\n"
     ]
    }
   ],
   "source": [
    "# dtype - Returns the data type of the elements in the array.\n",
    "arr = np.array([1, 2, 3])\n",
    "print(arr.dtype)   # Output: int64 (or int32 based on system)"
   ]
  },
  {
   "cell_type": "code",
   "execution_count": 15,
   "id": "e064030c-6e6a-4a95-94be-4b8163307e0a",
   "metadata": {},
   "outputs": [
    {
     "name": "stdout",
     "output_type": "stream",
     "text": [
      "2\n"
     ]
    }
   ],
   "source": [
    "# ndim - Returns the number of dimensions in the array.\n",
    "arr = np.array([[1, 2, 3], [4, 5, 6]])\n",
    "print(arr.ndim)    # Output: 2"
   ]
  },
  {
   "cell_type": "code",
   "execution_count": 17,
   "id": "5751a7f8-9f8b-46d5-8c05-3cf5fe807dd5",
   "metadata": {},
   "outputs": [
    {
     "name": "stdout",
     "output_type": "stream",
     "text": [
      "6\n"
     ]
    }
   ],
   "source": [
    "# size - Returns the total number of elements in the array.\n",
    "arr = np.array([[1, 2, 3], [4, 5, 6]])\n",
    "print(arr.size)    # Output: 6"
   ]
  },
  {
   "cell_type": "code",
   "execution_count": 19,
   "id": "4c189b32-709e-481b-af04-3789cb879c52",
   "metadata": {},
   "outputs": [
    {
     "name": "stdout",
     "output_type": "stream",
     "text": [
      "[[1 2 3]\n",
      " [4 5 6]]\n"
     ]
    }
   ],
   "source": [
    "# reshape - Changes the shape of the array without changing its data.\n",
    "arr = np.array([1, 2, 3, 4, 5, 6])\n",
    "arr_reshaped = arr.reshape(2, 3)\n",
    "print(arr_reshaped)  \n",
    "# Output: [[1, 2, 3], [4, 5, 6]]"
   ]
  },
  {
   "cell_type": "code",
   "execution_count": 21,
   "id": "7f105bde-3b7d-478b-a018-584aac38b383",
   "metadata": {},
   "outputs": [
    {
     "name": "stdout",
     "output_type": "stream",
     "text": [
      "[0 2 4 6 8]\n"
     ]
    }
   ],
   "source": [
    "# arange - Creates an array with a range of numbers.\n",
    "arr = np.arange(0, 10, 2)   # Start at 0, end before 10, step by 2\n",
    "print(arr)                  # Output: [0, 2, 4, 6, 8]"
   ]
  },
  {
   "cell_type": "code",
   "execution_count": 31,
   "id": "d180f367-0298-4c84-889e-ee85503e37d7",
   "metadata": {},
   "outputs": [
    {
     "name": "stdout",
     "output_type": "stream",
     "text": [
      "[0.   0.25 0.5  0.75 1.  ]\n"
     ]
    }
   ],
   "source": [
    "# linspace - Creates an array with evenly spaced values over a specified interval.\n",
    "arr = np.linspace(0, 1, 5)  # 5 values between 0 and 1\n",
    "print(arr)                  # Output: [0. , 0.25, 0.5 , 0.75, 1. ]\n"
   ]
  },
  {
   "cell_type": "code",
   "execution_count": 33,
   "id": "82e20bf7-8f4a-4745-a1bd-8d87e1aa0df6",
   "metadata": {},
   "outputs": [
    {
     "name": "stdout",
     "output_type": "stream",
     "text": [
      "5\n",
      "30\n",
      "2\n",
      "3\n"
     ]
    }
   ],
   "source": [
    "# min, max, argmin, argmax - Returns minimum, maximum, and their indices in the array.\n",
    "arr = np.array([10, 20, 5, 30])\n",
    "print(arr.min())            # Output: 5\n",
    "print(arr.max())            # Output: 30\n",
    "print(arr.argmin())         # Output: 2 (index of min value)\n",
    "print(arr.argmax())         # Output: 3 (index of max value)"
   ]
  },
  {
   "cell_type": "code",
   "execution_count": 35,
   "id": "5814f92d-aeb4-417e-96b8-e0361895fcaa",
   "metadata": {},
   "outputs": [
    {
     "name": "stdout",
     "output_type": "stream",
     "text": [
      "15\n",
      "3.0\n"
     ]
    }
   ],
   "source": [
    "# sum and mean - Calculates the sum and mean (average) of array elements.\n",
    "arr = np.array([1, 2, 3, 4, 5])\n",
    "print(arr.sum())            # Output: 15\n",
    "print(arr.mean())           # Output: 3.0"
   ]
  },
  {
   "cell_type": "code",
   "execution_count": 37,
   "id": "a05dc932-f20a-4980-9ca1-c8236835f026",
   "metadata": {},
   "outputs": [
    {
     "name": "stdout",
     "output_type": "stream",
     "text": [
      "1.4142135623730951\n",
      "2.0\n"
     ]
    }
   ],
   "source": [
    "# std and var - Returns the standard deviation and variance of array elements.\n",
    "arr = np.array([1, 2, 3, 4, 5])\n",
    "print(arr.std())            # Output: 1.4142135623730951\n",
    "print(arr.var())            # Output: 2.0"
   ]
  },
  {
   "cell_type": "code",
   "execution_count": 39,
   "id": "e68ec1d2-e7c6-4f3e-a2d6-0acb194853c8",
   "metadata": {},
   "outputs": [
    {
     "name": "stdout",
     "output_type": "stream",
     "text": [
      "[[1 3]\n",
      " [2 4]]\n"
     ]
    }
   ],
   "source": [
    "# transpose - Transposes rows and columns in a 2D array.\n",
    "arr = np.array([[1, 2], [3, 4]])\n",
    "print(arr.transpose())      # Output: [[1, 3], [2, 4]]"
   ]
  },
  {
   "cell_type": "code",
   "execution_count": 47,
   "id": "84f3e4af-3d57-4326-b640-5bd168099320",
   "metadata": {},
   "outputs": [
    {
     "name": "stdout",
     "output_type": "stream",
     "text": [
      "[1 2 3 4 5 6 7 8 9]\n"
     ]
    }
   ],
   "source": [
    "# flatten - Converts a multi-dimensional array into a 1D array.\n",
    "arr = np.array([[1, 2, 3], [4, 5, 6], [7, 8, 9]])\n",
    "print(arr.flatten())        # Output: [1, 2, 3, 4, 5, 6, 7, 8, 9]"
   ]
  },
  {
   "cell_type": "code",
   "execution_count": 49,
   "id": "d2fd66fa-4916-4f4e-be6e-a807053b0651",
   "metadata": {},
   "outputs": [
    {
     "name": "stdout",
     "output_type": "stream",
     "text": [
      "[1 2 3 4 5]\n"
     ]
    }
   ],
   "source": [
    "# unique - Finds the unique elements of an array.\n",
    "arr = np.array([1, 2, 2, 3, 4, 4, 5])\n",
    "print(np.unique(arr))       # Output: [1, 2, 3, 4, 5]"
   ]
  },
  {
   "cell_type": "code",
   "execution_count": 51,
   "id": "24dce7ec-c152-4d8d-b36d-ea9065c9eb3d",
   "metadata": {},
   "outputs": [
    {
     "name": "stdout",
     "output_type": "stream",
     "text": [
      "[1 2 3 4 5 6]\n"
     ]
    }
   ],
   "source": [
    "# concatenate - Joins two or more arrays along a specified axis.\n",
    "arr1 = np.array([1, 2, 3])\n",
    "arr2 = np.array([4, 5, 6])\n",
    "print(np.concatenate((arr1, arr2)))   # Output: [1, 2, 3, 4, 5, 6]"
   ]
  },
  {
   "cell_type": "code",
   "execution_count": 53,
   "id": "fbd5ad9d-f0b7-4afb-8d38-c706f01595bd",
   "metadata": {},
   "outputs": [
    {
     "name": "stdout",
     "output_type": "stream",
     "text": [
      "[[0. 0.]\n",
      " [0. 0.]]\n",
      "[[1. 1. 1.]\n",
      " [1. 1. 1.]\n",
      " [1. 1. 1.]]\n",
      "[[7 7]\n",
      " [7 7]]\n"
     ]
    }
   ],
   "source": [
    "# zeros, ones, and full - Creates arrays of zeros, ones, or a specified constant.\n",
    "print(np.zeros((2, 2)))     # 2x2 array of zeros\n",
    "print(np.ones((3, 3)))      # 3x3 array of ones\n",
    "print(np.full((2, 2), 7))   # 2x2 array filled with 7"
   ]
  },
  {
   "cell_type": "code",
   "execution_count": 55,
   "id": "6edbe879-bf8c-45ee-8bd3-07f50c4d78eb",
   "metadata": {},
   "outputs": [
    {
     "name": "stdout",
     "output_type": "stream",
     "text": [
      "[[1. 0. 0.]\n",
      " [0. 1. 0.]\n",
      " [0. 0. 1.]]\n"
     ]
    }
   ],
   "source": [
    "# eye - Creates an identity matrix.\n",
    "print(np.eye(3))            # Output: 3x3 identity matrix"
   ]
  },
  {
   "cell_type": "code",
   "execution_count": 57,
   "id": "735ad698-8972-415a-b922-8187e284fb0b",
   "metadata": {},
   "outputs": [
    {
     "name": "stdout",
     "output_type": "stream",
     "text": [
      "32\n"
     ]
    }
   ],
   "source": [
    "# dot - Computes the dot product of two arrays.\n",
    "a = np.array([1, 2, 3])\n",
    "b = np.array([4, 5, 6])\n",
    "print(np.dot(a, b))         # Output: 32 (1*4 + 2*5 + 3*6)"
   ]
  },
  {
   "cell_type": "code",
   "execution_count": 61,
   "id": "21481cd7-1063-4f29-ae94-2964547d6dda",
   "metadata": {},
   "outputs": [
    {
     "name": "stdout",
     "output_type": "stream",
     "text": [
      "[0.22590134 0.82039894 0.75676058]\n",
      "[ 0.87331353 -1.20169701  1.15440062]\n",
      "[2 3 1 4 2]\n"
     ]
    }
   ],
   "source": [
    "# random.rand, random.randn, and random.randint - Generates random values.\n",
    "print(np.random.rand(3))            # 1D array with 3 random numbers between 0 and 1\n",
    "print(np.random.randn(3))           # 1D array with 3 normally distributed random numbers\n",
    "print(np.random.randint(1, 10, 5))  # 1D array of 5 random integers between 1 and 10"
   ]
  },
  {
   "cell_type": "code",
   "execution_count": 63,
   "id": "8ba49e87-acf4-49e1-a4f2-dc6d50243ecd",
   "metadata": {},
   "outputs": [
    {
     "name": "stdout",
     "output_type": "stream",
     "text": [
      "(array([3, 4], dtype=int64),)\n"
     ]
    }
   ],
   "source": [
    "# where - Returns indices where a specified condition is true.\n",
    "arr = np.array([1, 2, 3, 4, 5])\n",
    "print(np.where(arr > 3))    # Output: (array([3, 4]),) -> indices where condition is true"
   ]
  },
  {
   "cell_type": "code",
   "execution_count": 65,
   "id": "0c48c7e9-4788-4070-93c6-25f3a30f1800",
   "metadata": {},
   "outputs": [
    {
     "name": "stdout",
     "output_type": "stream",
     "text": [
      "[ 1  3  6 10]\n",
      "[ 1  2  6 24]\n"
     ]
    }
   ],
   "source": [
    "# cumsum and cumprod - Cumulative sum and cumulative product.\n",
    "arr = np.array([1, 2, 3, 4])\n",
    "print(np.cumsum(arr))       # Output: [ 1  3  6 10]\n",
    "print(np.cumprod(arr))      # Output: [ 1  2  6 24]"
   ]
  },
  {
   "cell_type": "code",
   "execution_count": null,
   "id": "870d8c32-481b-4a56-ba69-42e70d1d11e7",
   "metadata": {},
   "outputs": [],
   "source": []
  }
 ],
 "metadata": {
  "kernelspec": {
   "display_name": "Python 3 (ipykernel)",
   "language": "python",
   "name": "python3"
  },
  "language_info": {
   "codemirror_mode": {
    "name": "ipython",
    "version": 3
   },
   "file_extension": ".py",
   "mimetype": "text/x-python",
   "name": "python",
   "nbconvert_exporter": "python",
   "pygments_lexer": "ipython3",
   "version": "3.12.4"
  }
 },
 "nbformat": 4,
 "nbformat_minor": 5
}
